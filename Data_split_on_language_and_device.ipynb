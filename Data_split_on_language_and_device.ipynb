{
 "cells": [
  {
   "cell_type": "code",
   "execution_count": null,
   "metadata": {},
   "outputs": [],
   "source": [
    "#Select only english \n",
    "df_en = df[df['lang'] == 'en']"
   ]
  },
  {
   "cell_type": "code",
   "execution_count": null,
   "metadata": {},
   "outputs": [],
   "source": [
    "#Function to clean source \n",
    "def clean_source(item):\n",
    "    start_here = item.find('>')\n",
    "    end_here = item.find('</a>')\n",
    "    return item[start_here+1:end_here]"
   ]
  },
  {
   "cell_type": "code",
   "execution_count": null,
   "metadata": {},
   "outputs": [],
   "source": [
    "#apply function to clean source column\n",
    "df_en['source'] = df_en['source'].apply(clean_source)"
   ]
  },
  {
   "cell_type": "code",
   "execution_count": null,
   "metadata": {},
   "outputs": [],
   "source": [
    "#amount of tweets and unique sources from tweets\n",
    "len(df_en['source'].unique())\n",
    "df_en['source'].unique()"
   ]
  },
  {
   "cell_type": "code",
   "execution_count": null,
   "metadata": {},
   "outputs": [],
   "source": [
    "#Counts per device\n",
    "df_en['source'].value_counts()"
   ]
  },
  {
   "cell_type": "code",
   "execution_count": null,
   "metadata": {},
   "outputs": [],
   "source": [
    "#split data for iphone, android and web \n",
    "df_iphone = df_en[df['source'] == 'Twitter for iPhone']\n",
    "df_android = df_en[df['source'] == 'Twitter for Android']\n",
    "df_web = df_en[df['source'] == 'Twitter Web Client']"
   ]
  }
 ],
 "metadata": {
  "kernelspec": {
   "display_name": "Python 3",
   "language": "python",
   "name": "python3"
  }
 },
 "nbformat": 4,
 "nbformat_minor": 4
}
